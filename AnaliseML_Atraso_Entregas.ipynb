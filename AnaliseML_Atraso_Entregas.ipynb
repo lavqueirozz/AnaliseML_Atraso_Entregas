{
 "cells": [
  {
   "cell_type": "markdown",
   "id": "61d5120c-db08-42c6-82dd-35f4b6240a43",
   "metadata": {},
   "source": [
    "# Analise de atraso de entregas\n",
    "Por que as entregas atrasam? \n",
    "Como prever os atrasos?"
   ]
  },
  {
   "cell_type": "code",
   "execution_count": null,
   "id": "451faabf-593f-4f20-bd20-2e716e98d991",
   "metadata": {},
   "outputs": [],
   "source": []
  },
  {
   "cell_type": "code",
   "execution_count": 1,
   "id": "52eae584-568b-4466-927c-297932341009",
   "metadata": {},
   "outputs": [],
   "source": [
    "import pandas as pd\n",
    "import numpy as np\n",
    "\n",
    "import seaborn as sns\n",
    "import matplotlib.pyplot as plt \n",
    "\n",
    "import time\n",
    "\n",
    "import warnings\n",
    "warnings.filterwarnings('ignore')"
   ]
  },
  {
   "cell_type": "markdown",
   "id": "745425c9-b20e-4287-ad87-bd299e63031c",
   "metadata": {},
   "source": [
    "### 1- Coleta de dados"
   ]
  },
  {
   "cell_type": "code",
   "execution_count": 2,
   "id": "396306de-bb97-499e-8d25-a20ca16e46e3",
   "metadata": {},
   "outputs": [
    {
     "data": {
      "text/html": [
       "<div>\n",
       "<style scoped>\n",
       "    .dataframe tbody tr th:only-of-type {\n",
       "        vertical-align: middle;\n",
       "    }\n",
       "\n",
       "    .dataframe tbody tr th {\n",
       "        vertical-align: top;\n",
       "    }\n",
       "\n",
       "    .dataframe thead th {\n",
       "        text-align: right;\n",
       "    }\n",
       "</style>\n",
       "<table border=\"1\" class=\"dataframe\">\n",
       "  <thead>\n",
       "    <tr style=\"text-align: right;\">\n",
       "      <th></th>\n",
       "      <th>ID</th>\n",
       "      <th>Warehouse_block</th>\n",
       "      <th>Mode_of_Shipment</th>\n",
       "      <th>Customer_care_calls</th>\n",
       "      <th>Customer_rating</th>\n",
       "      <th>Cost_of_the_Product</th>\n",
       "      <th>Prior_purchases</th>\n",
       "      <th>Product_importance</th>\n",
       "      <th>Gender</th>\n",
       "      <th>Discount_offered</th>\n",
       "      <th>Weight_in_gms</th>\n",
       "      <th>Reached.on.Time_Y.N</th>\n",
       "    </tr>\n",
       "  </thead>\n",
       "  <tbody>\n",
       "    <tr>\n",
       "      <th>0</th>\n",
       "      <td>1</td>\n",
       "      <td>D</td>\n",
       "      <td>Flight</td>\n",
       "      <td>4</td>\n",
       "      <td>2</td>\n",
       "      <td>177</td>\n",
       "      <td>3</td>\n",
       "      <td>low</td>\n",
       "      <td>F</td>\n",
       "      <td>44</td>\n",
       "      <td>1233</td>\n",
       "      <td>1</td>\n",
       "    </tr>\n",
       "    <tr>\n",
       "      <th>1</th>\n",
       "      <td>2</td>\n",
       "      <td>F</td>\n",
       "      <td>Flight</td>\n",
       "      <td>4</td>\n",
       "      <td>5</td>\n",
       "      <td>216</td>\n",
       "      <td>2</td>\n",
       "      <td>low</td>\n",
       "      <td>M</td>\n",
       "      <td>59</td>\n",
       "      <td>3088</td>\n",
       "      <td>1</td>\n",
       "    </tr>\n",
       "    <tr>\n",
       "      <th>2</th>\n",
       "      <td>3</td>\n",
       "      <td>A</td>\n",
       "      <td>Flight</td>\n",
       "      <td>2</td>\n",
       "      <td>2</td>\n",
       "      <td>183</td>\n",
       "      <td>4</td>\n",
       "      <td>low</td>\n",
       "      <td>M</td>\n",
       "      <td>48</td>\n",
       "      <td>3374</td>\n",
       "      <td>1</td>\n",
       "    </tr>\n",
       "    <tr>\n",
       "      <th>3</th>\n",
       "      <td>4</td>\n",
       "      <td>B</td>\n",
       "      <td>Flight</td>\n",
       "      <td>3</td>\n",
       "      <td>3</td>\n",
       "      <td>176</td>\n",
       "      <td>4</td>\n",
       "      <td>medium</td>\n",
       "      <td>M</td>\n",
       "      <td>10</td>\n",
       "      <td>1177</td>\n",
       "      <td>1</td>\n",
       "    </tr>\n",
       "    <tr>\n",
       "      <th>4</th>\n",
       "      <td>5</td>\n",
       "      <td>C</td>\n",
       "      <td>Flight</td>\n",
       "      <td>2</td>\n",
       "      <td>2</td>\n",
       "      <td>184</td>\n",
       "      <td>3</td>\n",
       "      <td>medium</td>\n",
       "      <td>F</td>\n",
       "      <td>46</td>\n",
       "      <td>2484</td>\n",
       "      <td>1</td>\n",
       "    </tr>\n",
       "  </tbody>\n",
       "</table>\n",
       "</div>"
      ],
      "text/plain": [
       "   ID Warehouse_block Mode_of_Shipment  Customer_care_calls  Customer_rating  \\\n",
       "0   1               D           Flight                    4                2   \n",
       "1   2               F           Flight                    4                5   \n",
       "2   3               A           Flight                    2                2   \n",
       "3   4               B           Flight                    3                3   \n",
       "4   5               C           Flight                    2                2   \n",
       "\n",
       "   Cost_of_the_Product  Prior_purchases Product_importance Gender  \\\n",
       "0                  177                3                low      F   \n",
       "1                  216                2                low      M   \n",
       "2                  183                4                low      M   \n",
       "3                  176                4             medium      M   \n",
       "4                  184                3             medium      F   \n",
       "\n",
       "   Discount_offered  Weight_in_gms  Reached.on.Time_Y.N  \n",
       "0                44           1233                    1  \n",
       "1                59           3088                    1  \n",
       "2                48           3374                    1  \n",
       "3                10           1177                    1  \n",
       "4                46           2484                    1  "
      ]
     },
     "execution_count": 2,
     "metadata": {},
     "output_type": "execute_result"
    }
   ],
   "source": [
    "df_entregas = pd.read_csv(\"C:/Users/lavin/Downloads/Train.csv\")\n",
    "df_entregas.head()"
   ]
  },
  {
   "cell_type": "code",
   "execution_count": 10,
   "id": "ddfa3ebb-cfb8-489e-9dcd-c853e407a6a1",
   "metadata": {},
   "outputs": [
    {
     "data": {
      "text/plain": [
       "(10999, 12)"
      ]
     },
     "execution_count": 10,
     "metadata": {},
     "output_type": "execute_result"
    }
   ],
   "source": [
    "df_entregas.shape"
   ]
  },
  {
   "cell_type": "code",
   "execution_count": 11,
   "id": "6c6c8f0e-62c5-4200-b488-94466b3f431d",
   "metadata": {},
   "outputs": [
    {
     "data": {
      "text/plain": [
       "ID                     10999\n",
       "Warehouse_block            5\n",
       "Mode_of_Shipment           3\n",
       "Customer_care_calls        6\n",
       "Customer_rating            5\n",
       "Cost_of_the_Product      215\n",
       "Prior_purchases            8\n",
       "Product_importance         3\n",
       "Gender                     2\n",
       "Discount_offered          65\n",
       "Weight_in_gms           4034\n",
       "Reached.on.Time_Y.N        2\n",
       "dtype: int64"
      ]
     },
     "execution_count": 11,
     "metadata": {},
     "output_type": "execute_result"
    }
   ],
   "source": [
    "df_entregas.nunique()"
   ]
  },
  {
   "cell_type": "code",
   "execution_count": 13,
   "id": "8507841d-a3e9-409f-a4f5-da254bf430da",
   "metadata": {},
   "outputs": [
    {
     "data": {
      "text/plain": [
       "ID                     0\n",
       "Warehouse_block        0\n",
       "Mode_of_Shipment       0\n",
       "Customer_care_calls    0\n",
       "Customer_rating        0\n",
       "Cost_of_the_Product    0\n",
       "Prior_purchases        0\n",
       "Product_importance     0\n",
       "Gender                 0\n",
       "Discount_offered       0\n",
       "Weight_in_gms          0\n",
       "Reached.on.Time_Y.N    0\n",
       "dtype: int64"
      ]
     },
     "execution_count": 13,
     "metadata": {},
     "output_type": "execute_result"
    }
   ],
   "source": [
    "df_entregas.isnull().sum()"
   ]
  },
  {
   "cell_type": "code",
   "execution_count": 16,
   "id": "8875060a-0fd8-493f-b171-4f68f26dba1c",
   "metadata": {},
   "outputs": [
    {
     "data": {
      "text/plain": [
       "np.int64(0)"
      ]
     },
     "execution_count": 16,
     "metadata": {},
     "output_type": "execute_result"
    }
   ],
   "source": [
    "df_entregas.duplicated().sum()"
   ]
  },
  {
   "cell_type": "code",
   "execution_count": 17,
   "id": "60023c7a-edeb-48bf-9b8e-2073ed69ddb0",
   "metadata": {},
   "outputs": [
    {
     "name": "stdout",
     "output_type": "stream",
     "text": [
      "<class 'pandas.core.frame.DataFrame'>\n",
      "RangeIndex: 10999 entries, 0 to 10998\n",
      "Data columns (total 12 columns):\n",
      " #   Column               Non-Null Count  Dtype \n",
      "---  ------               --------------  ----- \n",
      " 0   ID                   10999 non-null  int64 \n",
      " 1   Warehouse_block      10999 non-null  object\n",
      " 2   Mode_of_Shipment     10999 non-null  object\n",
      " 3   Customer_care_calls  10999 non-null  int64 \n",
      " 4   Customer_rating      10999 non-null  int64 \n",
      " 5   Cost_of_the_Product  10999 non-null  int64 \n",
      " 6   Prior_purchases      10999 non-null  int64 \n",
      " 7   Product_importance   10999 non-null  object\n",
      " 8   Gender               10999 non-null  object\n",
      " 9   Discount_offered     10999 non-null  int64 \n",
      " 10  Weight_in_gms        10999 non-null  int64 \n",
      " 11  Reached.on.Time_Y.N  10999 non-null  int64 \n",
      "dtypes: int64(8), object(4)\n",
      "memory usage: 1.0+ MB\n"
     ]
    }
   ],
   "source": [
    "df_entregas.info()"
   ]
  },
  {
   "cell_type": "code",
   "execution_count": 6,
   "id": "29e795da-8756-492b-a1e8-6691a534e181",
   "metadata": {},
   "outputs": [
    {
     "data": {
      "text/html": [
       "<div>\n",
       "<style scoped>\n",
       "    .dataframe tbody tr th:only-of-type {\n",
       "        vertical-align: middle;\n",
       "    }\n",
       "\n",
       "    .dataframe tbody tr th {\n",
       "        vertical-align: top;\n",
       "    }\n",
       "\n",
       "    .dataframe thead th {\n",
       "        text-align: right;\n",
       "    }\n",
       "</style>\n",
       "<table border=\"1\" class=\"dataframe\">\n",
       "  <thead>\n",
       "    <tr style=\"text-align: right;\">\n",
       "      <th></th>\n",
       "      <th>ID</th>\n",
       "      <th>Bloco_Armazem</th>\n",
       "      <th>Mode_Envio</th>\n",
       "      <th>Chamadas_Suporte</th>\n",
       "      <th>Avaliação_Cliente</th>\n",
       "      <th>Custo_Produto</th>\n",
       "      <th>Compras_Anteriores</th>\n",
       "      <th>Importancia_Produto</th>\n",
       "      <th>Sexo</th>\n",
       "      <th>Desconto</th>\n",
       "      <th>Peso_Produto</th>\n",
       "      <th>Entregue_no_Prazo_S/N</th>\n",
       "    </tr>\n",
       "  </thead>\n",
       "  <tbody>\n",
       "    <tr>\n",
       "      <th>0</th>\n",
       "      <td>1</td>\n",
       "      <td>D</td>\n",
       "      <td>Flight</td>\n",
       "      <td>4</td>\n",
       "      <td>2</td>\n",
       "      <td>177</td>\n",
       "      <td>3</td>\n",
       "      <td>low</td>\n",
       "      <td>F</td>\n",
       "      <td>44</td>\n",
       "      <td>1233</td>\n",
       "      <td>1</td>\n",
       "    </tr>\n",
       "    <tr>\n",
       "      <th>1</th>\n",
       "      <td>2</td>\n",
       "      <td>F</td>\n",
       "      <td>Flight</td>\n",
       "      <td>4</td>\n",
       "      <td>5</td>\n",
       "      <td>216</td>\n",
       "      <td>2</td>\n",
       "      <td>low</td>\n",
       "      <td>M</td>\n",
       "      <td>59</td>\n",
       "      <td>3088</td>\n",
       "      <td>1</td>\n",
       "    </tr>\n",
       "    <tr>\n",
       "      <th>2</th>\n",
       "      <td>3</td>\n",
       "      <td>A</td>\n",
       "      <td>Flight</td>\n",
       "      <td>2</td>\n",
       "      <td>2</td>\n",
       "      <td>183</td>\n",
       "      <td>4</td>\n",
       "      <td>low</td>\n",
       "      <td>M</td>\n",
       "      <td>48</td>\n",
       "      <td>3374</td>\n",
       "      <td>1</td>\n",
       "    </tr>\n",
       "    <tr>\n",
       "      <th>3</th>\n",
       "      <td>4</td>\n",
       "      <td>B</td>\n",
       "      <td>Flight</td>\n",
       "      <td>3</td>\n",
       "      <td>3</td>\n",
       "      <td>176</td>\n",
       "      <td>4</td>\n",
       "      <td>medium</td>\n",
       "      <td>M</td>\n",
       "      <td>10</td>\n",
       "      <td>1177</td>\n",
       "      <td>1</td>\n",
       "    </tr>\n",
       "    <tr>\n",
       "      <th>4</th>\n",
       "      <td>5</td>\n",
       "      <td>C</td>\n",
       "      <td>Flight</td>\n",
       "      <td>2</td>\n",
       "      <td>2</td>\n",
       "      <td>184</td>\n",
       "      <td>3</td>\n",
       "      <td>medium</td>\n",
       "      <td>F</td>\n",
       "      <td>46</td>\n",
       "      <td>2484</td>\n",
       "      <td>1</td>\n",
       "    </tr>\n",
       "  </tbody>\n",
       "</table>\n",
       "</div>"
      ],
      "text/plain": [
       "   ID Bloco_Armazem Mode_Envio  Chamadas_Suporte  Avaliação_Cliente  \\\n",
       "0   1             D     Flight                 4                  2   \n",
       "1   2             F     Flight                 4                  5   \n",
       "2   3             A     Flight                 2                  2   \n",
       "3   4             B     Flight                 3                  3   \n",
       "4   5             C     Flight                 2                  2   \n",
       "\n",
       "   Custo_Produto  Compras_Anteriores Importancia_Produto Sexo  Desconto  \\\n",
       "0            177                   3                 low    F        44   \n",
       "1            216                   2                 low    M        59   \n",
       "2            183                   4                 low    M        48   \n",
       "3            176                   4              medium    M        10   \n",
       "4            184                   3              medium    F        46   \n",
       "\n",
       "   Peso_Produto  Entregue_no_Prazo_S/N  \n",
       "0          1233                      1  \n",
       "1          3088                      1  \n",
       "2          3374                      1  \n",
       "3          1177                      1  \n",
       "4          2484                      1  "
      ]
     },
     "execution_count": 6,
     "metadata": {},
     "output_type": "execute_result"
    }
   ],
   "source": [
    "#Traduzi as colunas pra portugues só pra ter um melhor entendimento\n",
    "\n",
    "df_entregas.columns = ['ID',\n",
    "                 'Bloco_Armazem',\n",
    "                 'Mode_Envio',\n",
    "                 'Chamadas_Suporte',\n",
    "                 'Avaliação_Cliente',\n",
    "                 'Custo_Produto',\n",
    "                 'Compras_Anteriores',\n",
    "                 'Importancia_Produto',\n",
    "                 'Sexo',\n",
    "                 'Desconto',\n",
    "                 'Peso_Produto',\n",
    "                 'Entregue_no_Prazo_S/N']\n",
    "df_entregas.head()"
   ]
  },
  {
   "cell_type": "markdown",
   "id": "62a8760d-7ee5-4510-a73f-cf6328b4822a",
   "metadata": {},
   "source": [
    "--------------------------------------------------------------------------------------------------------------------------------------------------------------------"
   ]
  },
  {
   "cell_type": "code",
   "execution_count": null,
   "id": "44920122-ee87-4961-ade1-771f207ec1e4",
   "metadata": {},
   "outputs": [],
   "source": []
  },
  {
   "cell_type": "markdown",
   "id": "71dce1d4-8abf-4ec9-b334-66f59fe764af",
   "metadata": {},
   "source": [
    "### 2- Tratando outliers"
   ]
  },
  {
   "cell_type": "code",
   "execution_count": 71,
   "id": "cb6d4119-5eb4-4b8b-9f06-35d5e7f0430a",
   "metadata": {},
   "outputs": [
    {
     "data": {
      "image/png": "[encoded data removed]",
      "text/plain": [
       "<Figure size 800x400 with 1 Axes>"
      ]
     },
     "metadata": {},
     "output_type": "display_data"
    },
    {
     "data": {
      "image/png": "[encoded data removed]",
      "text/plain": [
       "<Figure size 800x400 with 1 Axes>"
      ]
     },
     "metadata": {},
     "output_type": "display_data"
    },
    {
     "data": {
      "image/png": "[encoded data removed]",
      "text/plain": [
       "<Figure size 800x400 with 1 Axes>"
      ]
     },
     "metadata": {},
     "output_type": "display_data"
    },
    {
     "data": {
      "image/png": "[encoded data removed]",
      "text/plain": [
       "<Figure size 800x400 with 1 Axes>"
      ]
     },
     "metadata": {},
     "output_type": "display_data"
    },
    {
     "data": {
      "image/png": "[encoded data removed]",
      "text/plain": [
       "<Figure size 800x400 with 1 Axes>"
      ]
     },
     "metadata": {},
     "output_type": "display_data"
    },
    {
     "data": {
      "image/png": "[encoded data removed]",
      "text/plain": [
       "<Figure size 800x400 with 1 Axes>"
      ]
     },
     "metadata": {},
     "output_type": "display_data"
    },
    {
     "data": {
      "image/png": "[encoded data removed]",
      "text/plain": [
       "<Figure size 800x400 with 1 Axes>"
      ]
     },
     "metadata": {},
     "output_type": "display_data"
    },
    {
     "data": {
      "image/png": "[encoded data removed]",
      "text/plain": [
       "<Figure size 800x400 with 1 Axes>"
      ]
     },
     "metadata": {},
     "output_type": "display_data"
    }
   ],
   "source": [
    "#grafico boxplot para conseguir visualizar os outliers\n",
    "\n",
    "for i in df_entregas.columns:\n",
    "    if df_entregas[i].dtype == 'int64':\n",
    "        plt.figure(figsize = (8, 4))\n",
    "        sns.boxplot(data = df_entregas[i])\n",
    "        plt.xticks(rotation=45)\n",
    "        plt.title(f\"Outliers - Coluna {i}\")\n",
    "plt.show()"
   ]
  },
  {
   "cell_type": "markdown",
   "id": "059786a0-cdb7-442c-ab3b-834e9b979c89",
   "metadata": {},
   "source": [
    "**Não julguei necessario tratar esses poucos outliers**"
   ]
  },
  {
   "cell_type": "markdown",
   "id": "99d054d2-5ad3-4781-b1e9-06230ed2e9a5",
   "metadata": {},
   "source": [
    "-------------------------------------------------------------------------------------------------------------------------------------------------------------"
   ]
  },
  {
   "cell_type": "code",
   "execution_count": null,
   "id": "7a82839a-3f00-4dbd-ba91-bc1826568e9d",
   "metadata": {},
   "outputs": [],
   "source": []
  },
  {
   "cell_type": "markdown",
   "id": "b774d31e-92d6-4dcb-b3c1-b928e3f71cbb",
   "metadata": {},
   "source": [
    "### 3- Analise Exploratoria"
   ]
  },
  {
   "cell_type": "code",
   "execution_count": 7,
   "id": "31cf88d0-a048-4abe-9dad-9f12964ed6f1",
   "metadata": {},
   "outputs": [
    {
     "data": {
      "text/plain": [
       "Entregue_no_Prazo_S/N\n",
       "1    6563\n",
       "0    4436\n",
       "Name: count, dtype: int64"
      ]
     },
     "execution_count": 7,
     "metadata": {},
     "output_type": "execute_result"
    }
   ],
   "source": [
    "#Temos bastantes pedidos com atraso no prazo de entrega\n",
    "df_entregas['Entregue_no_Prazo_S/N'].value_counts()"
   ]
  },
  {
   "cell_type": "code",
   "execution_count": 42,
   "id": "82542d8d-18ad-4172-a453-28c9e488e3b2",
   "metadata": {},
   "outputs": [
    {
     "data": {
      "text/plain": [
       "Mode_Envio\n",
       "Ship      7462\n",
       "Flight    1777\n",
       "Road      1760\n",
       "Name: count, dtype: int64"
      ]
     },
     "execution_count": 42,
     "metadata": {},
     "output_type": "execute_result"
    }
   ],
   "source": [
    "df_entregas['Mode_Envio'].value_counts()"
   ]
  },
  {
   "cell_type": "code",
   "execution_count": 54,
   "id": "6b6f7187-ad1d-422f-8a1c-b6b36f84a3b6",
   "metadata": {},
   "outputs": [
    {
     "data": {
      "text/html": [
       "<div>\n",
       "<style scoped>\n",
       "    .dataframe tbody tr th:only-of-type {\n",
       "        vertical-align: middle;\n",
       "    }\n",
       "\n",
       "    .dataframe tbody tr th {\n",
       "        vertical-align: top;\n",
       "    }\n",
       "\n",
       "    .dataframe thead th {\n",
       "        text-align: right;\n",
       "    }\n",
       "</style>\n",
       "<table border=\"1\" class=\"dataframe\">\n",
       "  <thead>\n",
       "    <tr style=\"text-align: right;\">\n",
       "      <th></th>\n",
       "      <th>ID</th>\n",
       "      <th>Chamadas_Suporte</th>\n",
       "      <th>Avaliação_Cliente</th>\n",
       "      <th>Custo_Produto</th>\n",
       "      <th>Compras_Anteriores</th>\n",
       "      <th>Desconto</th>\n",
       "      <th>Peso_Produto</th>\n",
       "      <th>Entregue_no_Prazo_S.N</th>\n",
       "    </tr>\n",
       "  </thead>\n",
       "  <tbody>\n",
       "    <tr>\n",
       "      <th>count</th>\n",
       "      <td>10999.00000</td>\n",
       "      <td>10999.000000</td>\n",
       "      <td>10999.000000</td>\n",
       "      <td>10999.000000</td>\n",
       "      <td>10999.000000</td>\n",
       "      <td>10999.000000</td>\n",
       "      <td>10999.000000</td>\n",
       "      <td>10999.000000</td>\n",
       "    </tr>\n",
       "    <tr>\n",
       "      <th>mean</th>\n",
       "      <td>5500.00000</td>\n",
       "      <td>4.054459</td>\n",
       "      <td>2.990545</td>\n",
       "      <td>210.196836</td>\n",
       "      <td>3.567597</td>\n",
       "      <td>13.373216</td>\n",
       "      <td>3634.016729</td>\n",
       "      <td>0.596691</td>\n",
       "    </tr>\n",
       "    <tr>\n",
       "      <th>std</th>\n",
       "      <td>3175.28214</td>\n",
       "      <td>1.141490</td>\n",
       "      <td>1.413603</td>\n",
       "      <td>48.063272</td>\n",
       "      <td>1.522860</td>\n",
       "      <td>16.205527</td>\n",
       "      <td>1635.377251</td>\n",
       "      <td>0.490584</td>\n",
       "    </tr>\n",
       "    <tr>\n",
       "      <th>min</th>\n",
       "      <td>1.00000</td>\n",
       "      <td>2.000000</td>\n",
       "      <td>1.000000</td>\n",
       "      <td>96.000000</td>\n",
       "      <td>2.000000</td>\n",
       "      <td>1.000000</td>\n",
       "      <td>1001.000000</td>\n",
       "      <td>0.000000</td>\n",
       "    </tr>\n",
       "    <tr>\n",
       "      <th>25%</th>\n",
       "      <td>2750.50000</td>\n",
       "      <td>3.000000</td>\n",
       "      <td>2.000000</td>\n",
       "      <td>169.000000</td>\n",
       "      <td>3.000000</td>\n",
       "      <td>4.000000</td>\n",
       "      <td>1839.500000</td>\n",
       "      <td>0.000000</td>\n",
       "    </tr>\n",
       "    <tr>\n",
       "      <th>50%</th>\n",
       "      <td>5500.00000</td>\n",
       "      <td>4.000000</td>\n",
       "      <td>3.000000</td>\n",
       "      <td>214.000000</td>\n",
       "      <td>3.000000</td>\n",
       "      <td>7.000000</td>\n",
       "      <td>4149.000000</td>\n",
       "      <td>1.000000</td>\n",
       "    </tr>\n",
       "    <tr>\n",
       "      <th>75%</th>\n",
       "      <td>8249.50000</td>\n",
       "      <td>5.000000</td>\n",
       "      <td>4.000000</td>\n",
       "      <td>251.000000</td>\n",
       "      <td>4.000000</td>\n",
       "      <td>10.000000</td>\n",
       "      <td>5050.000000</td>\n",
       "      <td>1.000000</td>\n",
       "    </tr>\n",
       "    <tr>\n",
       "      <th>max</th>\n",
       "      <td>10999.00000</td>\n",
       "      <td>7.000000</td>\n",
       "      <td>5.000000</td>\n",
       "      <td>310.000000</td>\n",
       "      <td>10.000000</td>\n",
       "      <td>65.000000</td>\n",
       "      <td>7846.000000</td>\n",
       "      <td>1.000000</td>\n",
       "    </tr>\n",
       "  </tbody>\n",
       "</table>\n",
       "</div>"
      ],
      "text/plain": [
       "                ID  Chamadas_Suporte  Avaliação_Cliente  Custo_Produto  \\\n",
       "count  10999.00000      10999.000000       10999.000000   10999.000000   \n",
       "mean    5500.00000          4.054459           2.990545     210.196836   \n",
       "std     3175.28214          1.141490           1.413603      48.063272   \n",
       "min        1.00000          2.000000           1.000000      96.000000   \n",
       "25%     2750.50000          3.000000           2.000000     169.000000   \n",
       "50%     5500.00000          4.000000           3.000000     214.000000   \n",
       "75%     8249.50000          5.000000           4.000000     251.000000   \n",
       "max    10999.00000          7.000000           5.000000     310.000000   \n",
       "\n",
       "       Compras_Anteriores      Desconto  Peso_Produto  Entregue_no_Prazo_S.N  \n",
       "count        10999.000000  10999.000000  10999.000000           10999.000000  \n",
       "mean             3.567597     13.373216   3634.016729               0.596691  \n",
       "std              1.522860     16.205527   1635.377251               0.490584  \n",
       "min              2.000000      1.000000   1001.000000               0.000000  \n",
       "25%              3.000000      4.000000   1839.500000               0.000000  \n",
       "50%              3.000000      7.000000   4149.000000               1.000000  \n",
       "75%              4.000000     10.000000   5050.000000               1.000000  \n",
       "max             10.000000     65.000000   7846.000000               1.000000  "
      ]
     },
     "execution_count": 54,
     "metadata": {},
     "output_type": "execute_result"
    }
   ],
   "source": [
    "df_entregas.describe()"
   ]
  },
  {
   "cell_type": "code",
   "execution_count": null,
   "id": "5480fea7-4fd8-44cf-b61b-53c7d714763e",
   "metadata": {},
   "outputs": [],
   "source": []
  },
  {
   "cell_type": "code",
   "execution_count": 9,
   "id": "bac6af14-d5de-4fc9-9e46-1426b8e05e15",
   "metadata": {},
   "outputs": [
    {
     "data": {
      "text/html": [
       "<div>\n",
       "<style scoped>\n",
       "    .dataframe tbody tr th:only-of-type {\n",
       "        vertical-align: middle;\n",
       "    }\n",
       "\n",
       "    .dataframe tbody tr th {\n",
       "        vertical-align: top;\n",
       "    }\n",
       "\n",
       "    .dataframe thead th {\n",
       "        text-align: right;\n",
       "    }\n",
       "</style>\n",
       "<table border=\"1\" class=\"dataframe\">\n",
       "  <thead>\n",
       "    <tr style=\"text-align: right;\">\n",
       "      <th></th>\n",
       "      <th>ID</th>\n",
       "      <th>Bloco_Armazem</th>\n",
       "      <th>Mode_Envio</th>\n",
       "      <th>Chamadas_Suporte</th>\n",
       "      <th>Avaliação_Cliente</th>\n",
       "      <th>Custo_Produto</th>\n",
       "      <th>Compras_Anteriores</th>\n",
       "      <th>Importancia_Produto</th>\n",
       "      <th>Sexo</th>\n",
       "      <th>Desconto</th>\n",
       "      <th>Peso_Produto</th>\n",
       "      <th>Entregue_no_Prazo_S/N</th>\n",
       "    </tr>\n",
       "  </thead>\n",
       "  <tbody>\n",
       "    <tr>\n",
       "      <th>0</th>\n",
       "      <td>1</td>\n",
       "      <td>D</td>\n",
       "      <td>Flight</td>\n",
       "      <td>4</td>\n",
       "      <td>2</td>\n",
       "      <td>177</td>\n",
       "      <td>3</td>\n",
       "      <td>low</td>\n",
       "      <td>F</td>\n",
       "      <td>44</td>\n",
       "      <td>1233</td>\n",
       "      <td>1</td>\n",
       "    </tr>\n",
       "    <tr>\n",
       "      <th>2</th>\n",
       "      <td>3</td>\n",
       "      <td>A</td>\n",
       "      <td>Flight</td>\n",
       "      <td>2</td>\n",
       "      <td>2</td>\n",
       "      <td>183</td>\n",
       "      <td>4</td>\n",
       "      <td>low</td>\n",
       "      <td>M</td>\n",
       "      <td>48</td>\n",
       "      <td>3374</td>\n",
       "      <td>1</td>\n",
       "    </tr>\n",
       "    <tr>\n",
       "      <th>4</th>\n",
       "      <td>5</td>\n",
       "      <td>C</td>\n",
       "      <td>Flight</td>\n",
       "      <td>2</td>\n",
       "      <td>2</td>\n",
       "      <td>184</td>\n",
       "      <td>3</td>\n",
       "      <td>medium</td>\n",
       "      <td>F</td>\n",
       "      <td>46</td>\n",
       "      <td>2484</td>\n",
       "      <td>1</td>\n",
       "    </tr>\n",
       "    <tr>\n",
       "      <th>5</th>\n",
       "      <td>6</td>\n",
       "      <td>F</td>\n",
       "      <td>Flight</td>\n",
       "      <td>3</td>\n",
       "      <td>1</td>\n",
       "      <td>162</td>\n",
       "      <td>3</td>\n",
       "      <td>medium</td>\n",
       "      <td>F</td>\n",
       "      <td>12</td>\n",
       "      <td>1417</td>\n",
       "      <td>1</td>\n",
       "    </tr>\n",
       "    <tr>\n",
       "      <th>7</th>\n",
       "      <td>8</td>\n",
       "      <td>F</td>\n",
       "      <td>Flight</td>\n",
       "      <td>4</td>\n",
       "      <td>1</td>\n",
       "      <td>233</td>\n",
       "      <td>2</td>\n",
       "      <td>low</td>\n",
       "      <td>F</td>\n",
       "      <td>48</td>\n",
       "      <td>2804</td>\n",
       "      <td>1</td>\n",
       "    </tr>\n",
       "  </tbody>\n",
       "</table>\n",
       "</div>"
      ],
      "text/plain": [
       "   ID Bloco_Armazem Mode_Envio  Chamadas_Suporte  Avaliação_Cliente  \\\n",
       "0   1             D     Flight                 4                  2   \n",
       "2   3             A     Flight                 2                  2   \n",
       "4   5             C     Flight                 2                  2   \n",
       "5   6             F     Flight                 3                  1   \n",
       "7   8             F     Flight                 4                  1   \n",
       "\n",
       "   Custo_Produto  Compras_Anteriores Importancia_Produto Sexo  Desconto  \\\n",
       "0            177                   3                 low    F        44   \n",
       "2            183                   4                 low    M        48   \n",
       "4            184                   3              medium    F        46   \n",
       "5            162                   3              medium    F        12   \n",
       "7            233                   2                 low    F        48   \n",
       "\n",
       "   Peso_Produto  Entregue_no_Prazo_S/N  \n",
       "0          1233                      1  \n",
       "2          3374                      1  \n",
       "4          2484                      1  \n",
       "5          1417                      1  \n",
       "7          2804                      1  "
      ]
     },
     "execution_count": 9,
     "metadata": {},
     "output_type": "execute_result"
    }
   ],
   "source": [
    "#Visualizando as avaliações que são menores que 3 \n",
    "df_avaliacao = df_entregas[df_entregas['Avaliação_Cliente'] < 3]\n",
    "df_avaliacao.head()"
   ]
  },
  {
   "cell_type": "code",
   "execution_count": 10,
   "id": "ec366a28-ab24-402b-bd07-cb41aaadf112",
   "metadata": {},
   "outputs": [
    {
     "data": {
      "text/html": [
       "<div>\n",
       "<style scoped>\n",
       "    .dataframe tbody tr th:only-of-type {\n",
       "        vertical-align: middle;\n",
       "    }\n",
       "\n",
       "    .dataframe tbody tr th {\n",
       "        vertical-align: top;\n",
       "    }\n",
       "\n",
       "    .dataframe thead th {\n",
       "        text-align: right;\n",
       "    }\n",
       "</style>\n",
       "<table border=\"1\" class=\"dataframe\">\n",
       "  <thead>\n",
       "    <tr style=\"text-align: right;\">\n",
       "      <th></th>\n",
       "      <th>ID</th>\n",
       "      <th>Bloco_Armazem</th>\n",
       "      <th>Mode_Envio</th>\n",
       "      <th>Chamadas_Suporte</th>\n",
       "      <th>Avaliação_Cliente</th>\n",
       "      <th>Custo_Produto</th>\n",
       "      <th>Compras_Anteriores</th>\n",
       "      <th>Importancia_Produto</th>\n",
       "      <th>Sexo</th>\n",
       "      <th>Desconto</th>\n",
       "      <th>Peso_Produto</th>\n",
       "      <th>Entregue_no_Prazo_S/N</th>\n",
       "    </tr>\n",
       "  </thead>\n",
       "  <tbody>\n",
       "    <tr>\n",
       "      <th>3146</th>\n",
       "      <td>3147</td>\n",
       "      <td>A</td>\n",
       "      <td>Flight</td>\n",
       "      <td>4</td>\n",
       "      <td>1</td>\n",
       "      <td>172</td>\n",
       "      <td>3</td>\n",
       "      <td>medium</td>\n",
       "      <td>M</td>\n",
       "      <td>7</td>\n",
       "      <td>4883</td>\n",
       "      <td>0</td>\n",
       "    </tr>\n",
       "    <tr>\n",
       "      <th>3147</th>\n",
       "      <td>3148</td>\n",
       "      <td>B</td>\n",
       "      <td>Flight</td>\n",
       "      <td>4</td>\n",
       "      <td>2</td>\n",
       "      <td>272</td>\n",
       "      <td>3</td>\n",
       "      <td>high</td>\n",
       "      <td>F</td>\n",
       "      <td>6</td>\n",
       "      <td>4559</td>\n",
       "      <td>0</td>\n",
       "    </tr>\n",
       "    <tr>\n",
       "      <th>3152</th>\n",
       "      <td>3153</td>\n",
       "      <td>A</td>\n",
       "      <td>Flight</td>\n",
       "      <td>4</td>\n",
       "      <td>2</td>\n",
       "      <td>237</td>\n",
       "      <td>6</td>\n",
       "      <td>low</td>\n",
       "      <td>F</td>\n",
       "      <td>8</td>\n",
       "      <td>5695</td>\n",
       "      <td>0</td>\n",
       "    </tr>\n",
       "    <tr>\n",
       "      <th>3153</th>\n",
       "      <td>3154</td>\n",
       "      <td>B</td>\n",
       "      <td>Flight</td>\n",
       "      <td>3</td>\n",
       "      <td>2</td>\n",
       "      <td>153</td>\n",
       "      <td>10</td>\n",
       "      <td>high</td>\n",
       "      <td>M</td>\n",
       "      <td>2</td>\n",
       "      <td>5455</td>\n",
       "      <td>0</td>\n",
       "    </tr>\n",
       "    <tr>\n",
       "      <th>3157</th>\n",
       "      <td>3158</td>\n",
       "      <td>F</td>\n",
       "      <td>Flight</td>\n",
       "      <td>4</td>\n",
       "      <td>2</td>\n",
       "      <td>246</td>\n",
       "      <td>3</td>\n",
       "      <td>low</td>\n",
       "      <td>F</td>\n",
       "      <td>7</td>\n",
       "      <td>5616</td>\n",
       "      <td>0</td>\n",
       "    </tr>\n",
       "  </tbody>\n",
       "</table>\n",
       "</div>"
      ],
      "text/plain": [
       "        ID Bloco_Armazem Mode_Envio  Chamadas_Suporte  Avaliação_Cliente  \\\n",
       "3146  3147             A     Flight                 4                  1   \n",
       "3147  3148             B     Flight                 4                  2   \n",
       "3152  3153             A     Flight                 4                  2   \n",
       "3153  3154             B     Flight                 3                  2   \n",
       "3157  3158             F     Flight                 4                  2   \n",
       "\n",
       "      Custo_Produto  Compras_Anteriores Importancia_Produto Sexo  Desconto  \\\n",
       "3146            172                   3              medium    M         7   \n",
       "3147            272                   3                high    F         6   \n",
       "3152            237                   6                 low    F         8   \n",
       "3153            153                  10                high    M         2   \n",
       "3157            246                   3                 low    F         7   \n",
       "\n",
       "      Peso_Produto  Entregue_no_Prazo_S/N  \n",
       "3146          4883                      0  \n",
       "3147          4559                      0  \n",
       "3152          5695                      0  \n",
       "3153          5455                      0  \n",
       "3157          5616                      0  "
      ]
     },
     "execution_count": 10,
     "metadata": {},
     "output_type": "execute_result"
    }
   ],
   "source": [
    "#Visualizando os pedidos que não foram entregues no prazo e tem avaliação menor que 3\n",
    "df_PrazoNegativo = df_avaliacao[df_avaliacao['Entregue_no_Prazo_S/N']== 0 ]\n",
    "df_PrazoNegativo.head()"
   ]
  },
  {
   "cell_type": "code",
   "execution_count": 18,
   "id": "51d0df04-2000-4f68-a6e4-fa82da521b34",
   "metadata": {},
   "outputs": [
    {
     "data": {
      "text/plain": [
       "np.float64(4.0)"
      ]
     },
     "execution_count": 18,
     "metadata": {},
     "output_type": "execute_result"
    }
   ],
   "source": [
    "#Vendo a media de vezes que os clientes ligam para o suporte (Com avaliações menores que 3 e Prazo de entrega atrasado)\n",
    "df_PrazoNegativo['Chamadas_Suporte'].mean().round()"
   ]
  },
  {
   "cell_type": "code",
   "execution_count": 30,
   "id": "9d22ec0a-e4e9-4d97-a934-7addd1f5b354",
   "metadata": {},
   "outputs": [
    {
     "data": {
      "text/plain": [
       "np.float64(1.0)"
      ]
     },
     "execution_count": 30,
     "metadata": {},
     "output_type": "execute_result"
    }
   ],
   "source": [
    "#Clientes com Prazo de entrega atrasado costumam avaliar o nosso serviço com 1 estrelas\n",
    "df_PrazoNegativo['Avaliação_Cliente'].mean().round()"
   ]
  },
  {
   "cell_type": "code",
   "execution_count": 31,
   "id": "f608f2b3-a1d0-4692-9ca6-cf96440cc091",
   "metadata": {},
   "outputs": [
    {
     "data": {
      "text/plain": [
       "Mode_Envio\n",
       "Ship      1218\n",
       "Flight     299\n",
       "Road       297\n",
       "Name: count, dtype: int64"
      ]
     },
     "execution_count": 31,
     "metadata": {},
     "output_type": "execute_result"
    }
   ],
   "source": [
    "df_PrazoNegativo['Mode_Envio'].value_counts()"
   ]
  },
  {
   "cell_type": "code",
   "execution_count": 29,
   "id": "df78b316-ac56-47a8-8b20-64b4ce641636",
   "metadata": {},
   "outputs": [
    {
     "data": {
      "text/plain": [
       "np.float64(214.0)"
      ]
     },
     "execution_count": 29,
     "metadata": {},
     "output_type": "execute_result"
    }
   ],
   "source": [
    "df_PrazoNegativo['Custo_Produto'].mean().round()"
   ]
  },
  {
   "cell_type": "code",
   "execution_count": 55,
   "id": "a8d21d92-ed4c-4d58-8ed1-002d44c280ff",
   "metadata": {},
   "outputs": [
    {
     "data": {
      "text/plain": [
       "np.float64(4173.0)"
      ]
     },
     "execution_count": 55,
     "metadata": {},
     "output_type": "execute_result"
    }
   ],
   "source": [
    "df_PrazoNegativo['Peso_Produto'].mean().round()"
   ]
  },
  {
   "cell_type": "code",
   "execution_count": 58,
   "id": "ee0f70b6-fdc8-4024-ba6d-7b1ef414d64d",
   "metadata": {},
   "outputs": [
    {
     "data": {
      "text/plain": [
       "Importancia_Produto\n",
       "low       868\n",
       "medium    813\n",
       "high      133\n",
       "Name: count, dtype: int64"
      ]
     },
     "execution_count": 58,
     "metadata": {},
     "output_type": "execute_result"
    }
   ],
   "source": [
    "df_PrazoNegativo['Importancia_Produto'].value_counts()"
   ]
  },
  {
   "cell_type": "markdown",
   "id": "4d6db2a5-013a-4693-a5e5-9ceb9a0f4c64",
   "metadata": {},
   "source": [
    "### Porque os Pedidos Atrasam:\n",
    "- Os pedidos mais mal avaliados tem em media 1 estrela de avaliação\n",
    "- Os que mais atrasam são enviados por navios \n",
    "- Pedidos atrasados tem media de 4 chamadas de suporte \n",
    "- São mais pesados, tem em media 4173 libras\n",
    "- São mais caros e tem valor em  media de 214 dolares"
   ]
  },
  {
   "cell_type": "markdown",
   "id": "9d050caa-9f14-41dc-95a7-6fd4f66fceea",
   "metadata": {},
   "source": [
    "-------------------------------------------------------------------------------------------------------------------------------------------------------------"
   ]
  },
  {
   "cell_type": "code",
   "execution_count": null,
   "id": "dd6dba07-8b4b-4af8-a348-ca659fe23fd4",
   "metadata": {},
   "outputs": [],
   "source": []
  },
  {
   "cell_type": "code",
   "execution_count": 12,
   "id": "707c2e08-bed5-4771-9d13-cacd54577fa7",
   "metadata": {},
   "outputs": [
    {
     "data": {
      "text/html": [
       "<div>\n",
       "<style scoped>\n",
       "    .dataframe tbody tr th:only-of-type {\n",
       "        vertical-align: middle;\n",
       "    }\n",
       "\n",
       "    .dataframe tbody tr th {\n",
       "        vertical-align: top;\n",
       "    }\n",
       "\n",
       "    .dataframe thead th {\n",
       "        text-align: right;\n",
       "    }\n",
       "</style>\n",
       "<table border=\"1\" class=\"dataframe\">\n",
       "  <thead>\n",
       "    <tr style=\"text-align: right;\">\n",
       "      <th></th>\n",
       "      <th>ID</th>\n",
       "      <th>Bloco_Armazem</th>\n",
       "      <th>Mode_Envio</th>\n",
       "      <th>Chamadas_Suporte</th>\n",
       "      <th>Avaliação_Cliente</th>\n",
       "      <th>Custo_Produto</th>\n",
       "      <th>Compras_Anteriores</th>\n",
       "      <th>Importancia_Produto</th>\n",
       "      <th>Sexo</th>\n",
       "      <th>Desconto</th>\n",
       "      <th>Peso_Produto</th>\n",
       "      <th>Entregue_no_Prazo_S/N</th>\n",
       "    </tr>\n",
       "  </thead>\n",
       "  <tbody>\n",
       "    <tr>\n",
       "      <th>1</th>\n",
       "      <td>2</td>\n",
       "      <td>F</td>\n",
       "      <td>Flight</td>\n",
       "      <td>4</td>\n",
       "      <td>5</td>\n",
       "      <td>216</td>\n",
       "      <td>2</td>\n",
       "      <td>low</td>\n",
       "      <td>M</td>\n",
       "      <td>59</td>\n",
       "      <td>3088</td>\n",
       "      <td>1</td>\n",
       "    </tr>\n",
       "    <tr>\n",
       "      <th>6</th>\n",
       "      <td>7</td>\n",
       "      <td>D</td>\n",
       "      <td>Flight</td>\n",
       "      <td>3</td>\n",
       "      <td>4</td>\n",
       "      <td>250</td>\n",
       "      <td>3</td>\n",
       "      <td>low</td>\n",
       "      <td>F</td>\n",
       "      <td>3</td>\n",
       "      <td>2371</td>\n",
       "      <td>1</td>\n",
       "    </tr>\n",
       "    <tr>\n",
       "      <th>8</th>\n",
       "      <td>9</td>\n",
       "      <td>A</td>\n",
       "      <td>Flight</td>\n",
       "      <td>3</td>\n",
       "      <td>4</td>\n",
       "      <td>150</td>\n",
       "      <td>3</td>\n",
       "      <td>low</td>\n",
       "      <td>F</td>\n",
       "      <td>11</td>\n",
       "      <td>1861</td>\n",
       "      <td>1</td>\n",
       "    </tr>\n",
       "    <tr>\n",
       "      <th>10</th>\n",
       "      <td>11</td>\n",
       "      <td>C</td>\n",
       "      <td>Flight</td>\n",
       "      <td>3</td>\n",
       "      <td>4</td>\n",
       "      <td>189</td>\n",
       "      <td>2</td>\n",
       "      <td>medium</td>\n",
       "      <td>M</td>\n",
       "      <td>12</td>\n",
       "      <td>2888</td>\n",
       "      <td>1</td>\n",
       "    </tr>\n",
       "    <tr>\n",
       "      <th>11</th>\n",
       "      <td>12</td>\n",
       "      <td>F</td>\n",
       "      <td>Flight</td>\n",
       "      <td>4</td>\n",
       "      <td>5</td>\n",
       "      <td>232</td>\n",
       "      <td>3</td>\n",
       "      <td>medium</td>\n",
       "      <td>F</td>\n",
       "      <td>32</td>\n",
       "      <td>3253</td>\n",
       "      <td>1</td>\n",
       "    </tr>\n",
       "  </tbody>\n",
       "</table>\n",
       "</div>"
      ],
      "text/plain": [
       "    ID Bloco_Armazem Mode_Envio  Chamadas_Suporte  Avaliação_Cliente  \\\n",
       "1    2             F     Flight                 4                  5   \n",
       "6    7             D     Flight                 3                  4   \n",
       "8    9             A     Flight                 3                  4   \n",
       "10  11             C     Flight                 3                  4   \n",
       "11  12             F     Flight                 4                  5   \n",
       "\n",
       "    Custo_Produto  Compras_Anteriores Importancia_Produto Sexo  Desconto  \\\n",
       "1             216                   2                 low    M        59   \n",
       "6             250                   3                 low    F         3   \n",
       "8             150                   3                 low    F        11   \n",
       "10            189                   2              medium    M        12   \n",
       "11            232                   3              medium    F        32   \n",
       "\n",
       "    Peso_Produto  Entregue_no_Prazo_S/N  \n",
       "1           3088                      1  \n",
       "6           2371                      1  \n",
       "8           1861                      1  \n",
       "10          2888                      1  \n",
       "11          3253                      1  "
      ]
     },
     "execution_count": 12,
     "metadata": {},
     "output_type": "execute_result"
    }
   ],
   "source": [
    "#Visualizando as avaliações que são maiores que 3 \n",
    "df_avaliacao2 = df_entregas[df_entregas['Avaliação_Cliente'] > 3]\n",
    "df_avaliacao2.head()"
   ]
  },
  {
   "cell_type": "code",
   "execution_count": 13,
   "id": "63ea83ba-2396-433a-88a3-d4ac59718ade",
   "metadata": {},
   "outputs": [
    {
     "data": {
      "text/html": [
       "<div>\n",
       "<style scoped>\n",
       "    .dataframe tbody tr th:only-of-type {\n",
       "        vertical-align: middle;\n",
       "    }\n",
       "\n",
       "    .dataframe tbody tr th {\n",
       "        vertical-align: top;\n",
       "    }\n",
       "\n",
       "    .dataframe thead th {\n",
       "        text-align: right;\n",
       "    }\n",
       "</style>\n",
       "<table border=\"1\" class=\"dataframe\">\n",
       "  <thead>\n",
       "    <tr style=\"text-align: right;\">\n",
       "      <th></th>\n",
       "      <th>ID</th>\n",
       "      <th>Bloco_Armazem</th>\n",
       "      <th>Mode_Envio</th>\n",
       "      <th>Chamadas_Suporte</th>\n",
       "      <th>Avaliação_Cliente</th>\n",
       "      <th>Custo_Produto</th>\n",
       "      <th>Compras_Anteriores</th>\n",
       "      <th>Importancia_Produto</th>\n",
       "      <th>Sexo</th>\n",
       "      <th>Desconto</th>\n",
       "      <th>Peso_Produto</th>\n",
       "      <th>Entregue_no_Prazo_S/N</th>\n",
       "    </tr>\n",
       "  </thead>\n",
       "  <tbody>\n",
       "    <tr>\n",
       "      <th>1</th>\n",
       "      <td>2</td>\n",
       "      <td>F</td>\n",
       "      <td>Flight</td>\n",
       "      <td>4</td>\n",
       "      <td>5</td>\n",
       "      <td>216</td>\n",
       "      <td>2</td>\n",
       "      <td>low</td>\n",
       "      <td>M</td>\n",
       "      <td>59</td>\n",
       "      <td>3088</td>\n",
       "      <td>1</td>\n",
       "    </tr>\n",
       "    <tr>\n",
       "      <th>6</th>\n",
       "      <td>7</td>\n",
       "      <td>D</td>\n",
       "      <td>Flight</td>\n",
       "      <td>3</td>\n",
       "      <td>4</td>\n",
       "      <td>250</td>\n",
       "      <td>3</td>\n",
       "      <td>low</td>\n",
       "      <td>F</td>\n",
       "      <td>3</td>\n",
       "      <td>2371</td>\n",
       "      <td>1</td>\n",
       "    </tr>\n",
       "    <tr>\n",
       "      <th>8</th>\n",
       "      <td>9</td>\n",
       "      <td>A</td>\n",
       "      <td>Flight</td>\n",
       "      <td>3</td>\n",
       "      <td>4</td>\n",
       "      <td>150</td>\n",
       "      <td>3</td>\n",
       "      <td>low</td>\n",
       "      <td>F</td>\n",
       "      <td>11</td>\n",
       "      <td>1861</td>\n",
       "      <td>1</td>\n",
       "    </tr>\n",
       "    <tr>\n",
       "      <th>10</th>\n",
       "      <td>11</td>\n",
       "      <td>C</td>\n",
       "      <td>Flight</td>\n",
       "      <td>3</td>\n",
       "      <td>4</td>\n",
       "      <td>189</td>\n",
       "      <td>2</td>\n",
       "      <td>medium</td>\n",
       "      <td>M</td>\n",
       "      <td>12</td>\n",
       "      <td>2888</td>\n",
       "      <td>1</td>\n",
       "    </tr>\n",
       "    <tr>\n",
       "      <th>11</th>\n",
       "      <td>12</td>\n",
       "      <td>F</td>\n",
       "      <td>Flight</td>\n",
       "      <td>4</td>\n",
       "      <td>5</td>\n",
       "      <td>232</td>\n",
       "      <td>3</td>\n",
       "      <td>medium</td>\n",
       "      <td>F</td>\n",
       "      <td>32</td>\n",
       "      <td>3253</td>\n",
       "      <td>1</td>\n",
       "    </tr>\n",
       "  </tbody>\n",
       "</table>\n",
       "</div>"
      ],
      "text/plain": [
       "    ID Bloco_Armazem Mode_Envio  Chamadas_Suporte  Avaliação_Cliente  \\\n",
       "1    2             F     Flight                 4                  5   \n",
       "6    7             D     Flight                 3                  4   \n",
       "8    9             A     Flight                 3                  4   \n",
       "10  11             C     Flight                 3                  4   \n",
       "11  12             F     Flight                 4                  5   \n",
       "\n",
       "    Custo_Produto  Compras_Anteriores Importancia_Produto Sexo  Desconto  \\\n",
       "1             216                   2                 low    M        59   \n",
       "6             250                   3                 low    F         3   \n",
       "8             150                   3                 low    F        11   \n",
       "10            189                   2              medium    M        12   \n",
       "11            232                   3              medium    F        32   \n",
       "\n",
       "    Peso_Produto  Entregue_no_Prazo_S/N  \n",
       "1           3088                      1  \n",
       "6           2371                      1  \n",
       "8           1861                      1  \n",
       "10          2888                      1  \n",
       "11          3253                      1  "
      ]
     },
     "execution_count": 13,
     "metadata": {},
     "output_type": "execute_result"
    }
   ],
   "source": [
    "#Visualizando os pedidos que foram entregues no prazo e tem avaliação maior que 3\n",
    "df_PrazoPositivo = df_avaliacao2[df_avaliacao2['Entregue_no_Prazo_S/N']== 1 ]\n",
    "df_PrazoPositivo.head()"
   ]
  },
  {
   "cell_type": "code",
   "execution_count": 69,
   "id": "76ffdd2b-55b2-4e6e-b21b-4363f2380a5a",
   "metadata": {},
   "outputs": [
    {
     "data": {
      "text/plain": [
       "np.float64(4.0)"
      ]
     },
     "execution_count": 69,
     "metadata": {},
     "output_type": "execute_result"
    }
   ],
   "source": [
    "#Vendo a media de vezes que os clientes ligam para o suporte (Com avaliações menores que 3 e Prazo de entrega atrasado)\n",
    "df_PrazoPositivo['Chamadas_Suporte'].mean().round()"
   ]
  },
  {
   "cell_type": "code",
   "execution_count": 68,
   "id": "d4b6bb7c-8944-4839-8788-2adc78157a00",
   "metadata": {},
   "outputs": [
    {
     "data": {
      "text/plain": [
       "np.float64(5.0)"
      ]
     },
     "execution_count": 68,
     "metadata": {},
     "output_type": "execute_result"
    }
   ],
   "source": [
    "#Clientes com Prazo de entrega atrasado costumam avaliar o nosso serviço com 5 estrelas\n",
    "df_PrazoPositivo['Avaliação_Cliente'].mean().round()"
   ]
  },
  {
   "cell_type": "code",
   "execution_count": 70,
   "id": "8dd7c8c5-7678-4e93-9274-0befcb6c4e80",
   "metadata": {},
   "outputs": [
    {
     "data": {
      "text/plain": [
       "Mode_Envio\n",
       "Ship      1779\n",
       "Flight     426\n",
       "Road       415\n",
       "Name: count, dtype: int64"
      ]
     },
     "execution_count": 70,
     "metadata": {},
     "output_type": "execute_result"
    }
   ],
   "source": [
    "df_PrazoPositivo['Mode_Envio'].value_counts()"
   ]
  },
  {
   "cell_type": "code",
   "execution_count": 71,
   "id": "9e1e451e-8edb-479a-a078-07e3a34ca1bb",
   "metadata": {},
   "outputs": [
    {
     "data": {
      "text/plain": [
       "np.float64(208.0)"
      ]
     },
     "execution_count": 71,
     "metadata": {},
     "output_type": "execute_result"
    }
   ],
   "source": [
    "df_PrazoPositivo['Custo_Produto'].mean().round()"
   ]
  },
  {
   "cell_type": "code",
   "execution_count": 73,
   "id": "a2f71a0e-c3d9-41bb-96de-aff03641e458",
   "metadata": {},
   "outputs": [
    {
     "data": {
      "text/plain": [
       "np.float64(3292.0)"
      ]
     },
     "execution_count": 73,
     "metadata": {},
     "output_type": "execute_result"
    }
   ],
   "source": [
    "df_PrazoPositivo['Peso_Produto'].mean().round()"
   ]
  },
  {
   "cell_type": "code",
   "execution_count": 74,
   "id": "a881ac07-6e2f-4f2d-a4ba-29c1d0bcc8e5",
   "metadata": {},
   "outputs": [
    {
     "data": {
      "text/plain": [
       "Importancia_Produto\n",
       "low       1250\n",
       "medium    1124\n",
       "high       246\n",
       "Name: count, dtype: int64"
      ]
     },
     "execution_count": 74,
     "metadata": {},
     "output_type": "execute_result"
    }
   ],
   "source": [
    "df_PrazoPositivo['Importancia_Produto'].value_counts()"
   ]
  },
  {
   "cell_type": "code",
   "execution_count": null,
   "id": "5ca3e955-3ab7-41fd-8754-5873e95eee27",
   "metadata": {},
   "outputs": [],
   "source": [
    "df_P"
   ]
  },
  {
   "cell_type": "markdown",
   "id": "15e1e6e2-b76a-4d23-a8bb-b5d3b9ebeeda",
   "metadata": {},
   "source": [
    "### Pedidos com Prazo Positivo tem o maior numero de entregas por navio e media de 4 chamadas de suporte mas:\n",
    "- São mais leves pesando em média 3292 libras\n",
    "- São mais baratos custando em média 208 dolares\n",
    "-  E média de avaliação de 5 estrelas"
   ]
  },
  {
   "cell_type": "markdown",
   "id": "4abd6751-1525-4c74-aead-fe67666871d4",
   "metadata": {},
   "source": [
    "--------------------------------------------------------------------------------------------------------------------------------------------------------------------"
   ]
  },
  {
   "cell_type": "code",
   "execution_count": null,
   "id": "77c0a6dc-61f0-4b02-91d0-42763e7141b7",
   "metadata": {},
   "outputs": [],
   "source": []
  },
  {
   "cell_type": "markdown",
   "id": "d15e7a8a-5db6-4dbf-ac51-119a6aa1d5b2",
   "metadata": {},
   "source": [
    "### 4 - Visualização de dados\n",
    "\n",
    "Vou criar um grafico pra comparar numero de Prazos Entregues e depois fazer outro grafico retirando produtos com peso menor que 3292 e valor menor que 208 para compararmos as diferenças"
   ]
  },
  {
   "cell_type": "code",
   "execution_count": 23,
   "id": "9047042a-9c28-4f9a-9f3d-bc062f38172f",
   "metadata": {},
   "outputs": [
    {
     "data": {
      "text/plain": [
       "<Axes: title={'center': 'Prazos Positivos x Prazos Negativos'}, xlabel='Entregue_no_Prazo_S/N'>"
      ]
     },
     "execution_count": 23,
     "metadata": {},
     "output_type": "execute_result"
    },
    {
     "data": {
      "image/png": "[encoded data removed]",
      "text/plain": [
       "<Figure size 700x400 with 1 Axes>"
      ]
     },
     "metadata": {},
     "output_type": "display_data"
    }
   ],
   "source": [
    "#Grafico Atual comparando os prazos \n",
    "plt.rcParams['figure.figsize'] = (7.00 , 4.00)\n",
    "plt.rcParams['figure.autolayout'] = True\n",
    "df_entregas['Entregue_no_Prazo_S/N'].value_counts().plot(kind = 'bar', title = \"Prazos Positivos x Prazos Negativos\" )"
   ]
  },
  {
   "cell_type": "code",
   "execution_count": 28,
   "id": "0ce718ca-5213-4160-9de0-d2dfdef6e256",
   "metadata": {},
   "outputs": [],
   "source": [
    "#Novo dataframe sem os problemas do df_entregas original\n",
    "df_grafico = df_entregas[(df_entregas['Peso_Produto'] < 3292) & (df_entregas['Custo_Produto'] < 208)]"
   ]
  },
  {
   "cell_type": "code",
   "execution_count": 29,
   "id": "f2b3f0c3-a7b7-4727-8725-f94560f47da7",
   "metadata": {},
   "outputs": [
    {
     "data": {
      "text/plain": [
       "<Axes: title={'center': 'Prazos Positivos x Prazos Negativos'}, xlabel='Entregue_no_Prazo_S/N'>"
      ]
     },
     "execution_count": 29,
     "metadata": {},
     "output_type": "execute_result"
    },
    {
     "data": {
      "image/png": "[encoded data removed]",
      "text/plain": [
       "<Figure size 700x400 with 1 Axes>"
      ]
     },
     "metadata": {},
     "output_type": "display_data"
    }
   ],
   "source": [
    "#Grafico novo comparando os prazos \n",
    "plt.rcParams['figure.figsize'] = (7.00 , 4.00)\n",
    "plt.rcParams['figure.autolayout'] = True\n",
    "df_grafico['Entregue_no_Prazo_S/N'].value_counts().plot(kind = 'bar', title = \"Prazos Positivos x Prazos Negativos\" )"
   ]
  },
  {
   "cell_type": "markdown",
   "id": "029c98be-9981-467d-b328-d786b4e63d7e",
   "metadata": {},
   "source": [
    "**Com pedidos mais leves e preços menores nós conseguimos diminuir os Prazos de entrega negativos**"
   ]
  },
  {
   "cell_type": "markdown",
   "id": "859d113d-1b84-4d8c-a521-90c15af7ac5e",
   "metadata": {},
   "source": [
    "----------------------------------------------------------------------------------------------------------------------------------------------------------"
   ]
  },
  {
   "cell_type": "code",
   "execution_count": null,
   "id": "df100c2b-6a28-4668-b60d-1223e77c9994",
   "metadata": {},
   "outputs": [],
   "source": []
  },
  {
   "cell_type": "markdown",
   "id": "ccc42fe1-8a1d-4b2f-9463-20657d453401",
   "metadata": {},
   "source": [
    "### 5- Treinando um modelo para prever atrasos de entrega"
   ]
  },
  {
   "cell_type": "code",
   "execution_count": 30,
   "id": "fa4d40f1-8b5b-4997-94cf-42b98a201d5b",
   "metadata": {},
   "outputs": [],
   "source": [
    "df_entregas2 = df_entregas.copy()"
   ]
  },
  {
   "cell_type": "code",
   "execution_count": 32,
   "id": "65673d28-7e28-4531-b27b-ca55306bb892",
   "metadata": {},
   "outputs": [],
   "source": [
    "#Label encoder na unica coluna categorica q eu vou usar\n",
    "from sklearn.preprocessing import LabelEncoder\n",
    "\n",
    "lb = LabelEncoder()\n",
    "df_entregas2['Mode_Envio'] = lb.fit_transform(df_entregas2['Mode_Envio'])"
   ]
  },
  {
   "cell_type": "code",
   "execution_count": 34,
   "id": "601b5cc4-a90c-4576-bbb6-eb1d43d457c9",
   "metadata": {},
   "outputs": [],
   "source": [
    "preditoras = df_entregas2[['Mode_Envio', 'Peso_Produto','Custo_Produto','Avaliação_Cliente']]\n",
    "alvo = df_entregas2['Entregue_no_Prazo_S/N']"
   ]
  },
  {
   "cell_type": "code",
   "execution_count": 39,
   "id": "8c5287e9-84dd-4bac-aba5-21b07a588a4e",
   "metadata": {},
   "outputs": [],
   "source": [
    "#Treinando o modelo\n",
    "from sklearn.model_selection import train_test_split\n",
    "x_treino, x_teste, y_treino, y_teste = train_test_split(preditoras, alvo, random_state = 42)"
   ]
  },
  {
   "cell_type": "code",
   "execution_count": 40,
   "id": "1e4e51b7-b43e-4efb-b5c7-588fe1b1d8af",
   "metadata": {},
   "outputs": [
    {
     "data": {
      "text/html": [
       "<style>#sk-container-id-1 {\n",
       "  /* Definition of color scheme common for light and dark mode */\n",
       "  --sklearn-color-text: #000;\n",
       "  --sklearn-color-text-muted: #666;\n",
       "  --sklearn-color-line: gray;\n",
       "  /* Definition of color scheme for unfitted estimators */\n",
       "  --sklearn-color-unfitted-level-0: #fff5e6;\n",
       "  --sklearn-color-unfitted-level-1: #f6e4d2;\n",
       "  --sklearn-color-unfitted-level-2: #ffe0b3;\n",
       "  --sklearn-color-unfitted-level-3: chocolate;\n",
       "  /* Definition of color scheme for fitted estimators */\n",
       "  --sklearn-color-fitted-level-0: #f0f8ff;\n",
       "  --sklearn-color-fitted-level-1: #d4ebff;\n",
       "  --sklearn-color-fitted-level-2: #b3dbfd;\n",
       "  --sklearn-color-fitted-level-3: cornflowerblue;\n",
       "\n",
       "  /* Specific color for light theme */\n",
       "  --sklearn-color-text-on-default-background: var(--sg-text-color, var(--theme-code-foreground, var(--jp-content-font-color1, black)));\n",
       "  --sklearn-color-background: var(--sg-background-color, var(--theme-background, var(--jp-layout-color0, white)));\n",
       "  --sklearn-color-border-box: var(--sg-text-color, var(--theme-code-foreground, var(--jp-content-font-color1, black)));\n",
       "  --sklearn-color-icon: #696969;\n",
       "\n",
       "  @media (prefers-color-scheme: dark) {\n",
       "    /* Redefinition of color scheme for dark theme */\n",
       "    --sklearn-color-text-on-default-background: var(--sg-text-color, var(--theme-code-foreground, var(--jp-content-font-color1, white)));\n",
       "    --sklearn-color-background: var(--sg-background-color, var(--theme-background, var(--jp-layout-color0, #111)));\n",
       "    --sklearn-color-border-box: var(--sg-text-color, var(--theme-code-foreground, var(--jp-content-font-color1, white)));\n",
       "    --sklearn-color-icon: #878787;\n",
       "  }\n",
       "}\n",
       "\n",
       "#sk-container-id-1 {\n",
       "  color: var(--sklearn-color-text);\n",
       "}\n",
       "\n",
       "#sk-container-id-1 pre {\n",
       "  padding: 0;\n",
       "}\n",
       "\n",
       "#sk-container-id-1 input.sk-hidden--visually {\n",
       "  border: 0;\n",
       "  clip: rect(1px 1px 1px 1px);\n",
       "  clip: rect(1px, 1px, 1px, 1px);\n",
       "  height: 1px;\n",
       "  margin: -1px;\n",
       "  overflow: hidden;\n",
       "  padding: 0;\n",
       "  position: absolute;\n",
       "  width: 1px;\n",
       "}\n",
       "\n",
       "#sk-container-id-1 div.sk-dashed-wrapped {\n",
       "  border: 1px dashed var(--sklearn-color-line);\n",
       "  margin: 0 0.4em 0.5em 0.4em;\n",
       "  box-sizing: border-box;\n",
       "  padding-bottom: 0.4em;\n",
       "  background-color: var(--sklearn-color-background);\n",
       "}\n",
       "\n",
       "#sk-container-id-1 div.sk-container {\n",
       "  /* jupyter's `normalize.less` sets `[hidden] { display: none; }`\n",
       "     but bootstrap.min.css set `[hidden] { display: none !important; }`\n",
       "     so we also need the `!important` here to be able to override the\n",
       "     default hidden behavior on the sphinx rendered scikit-learn.org.\n",
       "     See: https://github.com/scikit-learn/scikit-learn/issues/21755 */\n",
       "  display: inline-block !important;\n",
       "  position: relative;\n",
       "}\n",
       "\n",
       "#sk-container-id-1 div.sk-text-repr-fallback {\n",
       "  display: none;\n",
       "}\n",
       "\n",
       "div.sk-parallel-item,\n",
       "div.sk-serial,\n",
       "div.sk-item {\n",
       "  /* draw centered vertical line to link estimators */\n",
       "  background-image: linear-gradient(var(--sklearn-color-text-on-default-background), var(--sklearn-color-text-on-default-background));\n",
       "  background-size: 2px 100%;\n",
       "  background-repeat: no-repeat;\n",
       "  background-position: center center;\n",
       "}\n",
       "\n",
       "/* Parallel-specific style estimator block */\n",
       "\n",
       "#sk-container-id-1 div.sk-parallel-item::after {\n",
       "  content: \"\";\n",
       "  width: 100%;\n",
       "  border-bottom: 2px solid var(--sklearn-color-text-on-default-background);\n",
       "  flex-grow: 1;\n",
       "}\n",
       "\n",
       "#sk-container-id-1 div.sk-parallel {\n",
       "  display: flex;\n",
       "  align-items: stretch;\n",
       "  justify-content: center;\n",
       "  background-color: var(--sklearn-color-background);\n",
       "  position: relative;\n",
       "}\n",
       "\n",
       "#sk-container-id-1 div.sk-parallel-item {\n",
       "  display: flex;\n",
       "  flex-direction: column;\n",
       "}\n",
       "\n",
       "#sk-container-id-1 div.sk-parallel-item:first-child::after {\n",
       "  align-self: flex-end;\n",
       "  width: 50%;\n",
       "}\n",
       "\n",
       "#sk-container-id-1 div.sk-parallel-item:last-child::after {\n",
       "  align-self: flex-start;\n",
       "  width: 50%;\n",
       "}\n",
       "\n",
       "#sk-container-id-1 div.sk-parallel-item:only-child::after {\n",
       "  width: 0;\n",
       "}\n",
       "\n",
       "/* Serial-specific style estimator block */\n",
       "\n",
       "#sk-container-id-1 div.sk-serial {\n",
       "  display: flex;\n",
       "  flex-direction: column;\n",
       "  align-items: center;\n",
       "  background-color: var(--sklearn-color-background);\n",
       "  padding-right: 1em;\n",
       "  padding-left: 1em;\n",
       "}\n",
       "\n",
       "\n",
       "/* Toggleable style: style used for estimator/Pipeline/ColumnTransformer box that is\n",
       "clickable and can be expanded/collapsed.\n",
       "- Pipeline and ColumnTransformer use this feature and define the default style\n",
       "- Estimators will overwrite some part of the style using the `sk-estimator` class\n",
       "*/\n",
       "\n",
       "/* Pipeline and ColumnTransformer style (default) */\n",
       "\n",
       "#sk-container-id-1 div.sk-toggleable {\n",
       "  /* Default theme specific background. It is overwritten whether we have a\n",
       "  specific estimator or a Pipeline/ColumnTransformer */\n",
       "  background-color: var(--sklearn-color-background);\n",
       "}\n",
       "\n",
       "/* Toggleable label */\n",
       "#sk-container-id-1 label.sk-toggleable__label {\n",
       "  cursor: pointer;\n",
       "  display: flex;\n",
       "  width: 100%;\n",
       "  margin-bottom: 0;\n",
       "  padding: 0.5em;\n",
       "  box-sizing: border-box;\n",
       "  text-align: center;\n",
       "  align-items: start;\n",
       "  justify-content: space-between;\n",
       "  gap: 0.5em;\n",
       "}\n",
       "\n",
       "#sk-container-id-1 label.sk-toggleable__label .caption {\n",
       "  font-size: 0.6rem;\n",
       "  font-weight: lighter;\n",
       "  color: var(--sklearn-color-text-muted);\n",
       "}\n",
       "\n",
       "#sk-container-id-1 label.sk-toggleable__label-arrow:before {\n",
       "  /* Arrow on the left of the label */\n",
       "  content: \"▸\";\n",
       "  float: left;\n",
       "  margin-right: 0.25em;\n",
       "  color: var(--sklearn-color-icon);\n",
       "}\n",
       "\n",
       "#sk-container-id-1 label.sk-toggleable__label-arrow:hover:before {\n",
       "  color: var(--sklearn-color-text);\n",
       "}\n",
       "\n",
       "/* Toggleable content - dropdown */\n",
       "\n",
       "#sk-container-id-1 div.sk-toggleable__content {\n",
       "  max-height: 0;\n",
       "  max-width: 0;\n",
       "  overflow: hidden;\n",
       "  text-align: left;\n",
       "  /* unfitted */\n",
       "  background-color: var(--sklearn-color-unfitted-level-0);\n",
       "}\n",
       "\n",
       "#sk-container-id-1 div.sk-toggleable__content.fitted {\n",
       "  /* fitted */\n",
       "  background-color: var(--sklearn-color-fitted-level-0);\n",
       "}\n",
       "\n",
       "#sk-container-id-1 div.sk-toggleable__content pre {\n",
       "  margin: 0.2em;\n",
       "  border-radius: 0.25em;\n",
       "  color: var(--sklearn-color-text);\n",
       "  /* unfitted */\n",
       "  background-color: var(--sklearn-color-unfitted-level-0);\n",
       "}\n",
       "\n",
       "#sk-container-id-1 div.sk-toggleable__content.fitted pre {\n",
       "  /* unfitted */\n",
       "  background-color: var(--sklearn-color-fitted-level-0);\n",
       "}\n",
       "\n",
       "#sk-container-id-1 input.sk-toggleable__control:checked~div.sk-toggleable__content {\n",
       "  /* Expand drop-down */\n",
       "  max-height: 200px;\n",
       "  max-width: 100%;\n",
       "  overflow: auto;\n",
       "}\n",
       "\n",
       "#sk-container-id-1 input.sk-toggleable__control:checked~label.sk-toggleable__label-arrow:before {\n",
       "  content: \"▾\";\n",
       "}\n",
       "\n",
       "/* Pipeline/ColumnTransformer-specific style */\n",
       "\n",
       "#sk-container-id-1 div.sk-label input.sk-toggleable__control:checked~label.sk-toggleable__label {\n",
       "  color: var(--sklearn-color-text);\n",
       "  background-color: var(--sklearn-color-unfitted-level-2);\n",
       "}\n",
       "\n",
       "#sk-container-id-1 div.sk-label.fitted input.sk-toggleable__control:checked~label.sk-toggleable__label {\n",
       "  background-color: var(--sklearn-color-fitted-level-2);\n",
       "}\n",
       "\n",
       "/* Estimator-specific style */\n",
       "\n",
       "/* Colorize estimator box */\n",
       "#sk-container-id-1 div.sk-estimator input.sk-toggleable__control:checked~label.sk-toggleable__label {\n",
       "  /* unfitted */\n",
       "  background-color: var(--sklearn-color-unfitted-level-2);\n",
       "}\n",
       "\n",
       "#sk-container-id-1 div.sk-estimator.fitted input.sk-toggleable__control:checked~label.sk-toggleable__label {\n",
       "  /* fitted */\n",
       "  background-color: var(--sklearn-color-fitted-level-2);\n",
       "}\n",
       "\n",
       "#sk-container-id-1 div.sk-label label.sk-toggleable__label,\n",
       "#sk-container-id-1 div.sk-label label {\n",
       "  /* The background is the default theme color */\n",
       "  color: var(--sklearn-color-text-on-default-background);\n",
       "}\n",
       "\n",
       "/* On hover, darken the color of the background */\n",
       "#sk-container-id-1 div.sk-label:hover label.sk-toggleable__label {\n",
       "  color: var(--sklearn-color-text);\n",
       "  background-color: var(--sklearn-color-unfitted-level-2);\n",
       "}\n",
       "\n",
       "/* Label box, darken color on hover, fitted */\n",
       "#sk-container-id-1 div.sk-label.fitted:hover label.sk-toggleable__label.fitted {\n",
       "  color: var(--sklearn-color-text);\n",
       "  background-color: var(--sklearn-color-fitted-level-2);\n",
       "}\n",
       "\n",
       "/* Estimator label */\n",
       "\n",
       "#sk-container-id-1 div.sk-label label {\n",
       "  font-family: monospace;\n",
       "  font-weight: bold;\n",
       "  display: inline-block;\n",
       "  line-height: 1.2em;\n",
       "}\n",
       "\n",
       "#sk-container-id-1 div.sk-label-container {\n",
       "  text-align: center;\n",
       "}\n",
       "\n",
       "/* Estimator-specific */\n",
       "#sk-container-id-1 div.sk-estimator {\n",
       "  font-family: monospace;\n",
       "  border: 1px dotted var(--sklearn-color-border-box);\n",
       "  border-radius: 0.25em;\n",
       "  box-sizing: border-box;\n",
       "  margin-bottom: 0.5em;\n",
       "  /* unfitted */\n",
       "  background-color: var(--sklearn-color-unfitted-level-0);\n",
       "}\n",
       "\n",
       "#sk-container-id-1 div.sk-estimator.fitted {\n",
       "  /* fitted */\n",
       "  background-color: var(--sklearn-color-fitted-level-0);\n",
       "}\n",
       "\n",
       "/* on hover */\n",
       "#sk-container-id-1 div.sk-estimator:hover {\n",
       "  /* unfitted */\n",
       "  background-color: var(--sklearn-color-unfitted-level-2);\n",
       "}\n",
       "\n",
       "#sk-container-id-1 div.sk-estimator.fitted:hover {\n",
       "  /* fitted */\n",
       "  background-color: var(--sklearn-color-fitted-level-2);\n",
       "}\n",
       "\n",
       "/* Specification for estimator info (e.g. \"i\" and \"?\") */\n",
       "\n",
       "/* Common style for \"i\" and \"?\" */\n",
       "\n",
       ".sk-estimator-doc-link,\n",
       "a:link.sk-estimator-doc-link,\n",
       "a:visited.sk-estimator-doc-link {\n",
       "  float: right;\n",
       "  font-size: smaller;\n",
       "  line-height: 1em;\n",
       "  font-family: monospace;\n",
       "  background-color: var(--sklearn-color-background);\n",
       "  border-radius: 1em;\n",
       "  height: 1em;\n",
       "  width: 1em;\n",
       "  text-decoration: none !important;\n",
       "  margin-left: 0.5em;\n",
       "  text-align: center;\n",
       "  /* unfitted */\n",
       "  border: var(--sklearn-color-unfitted-level-1) 1pt solid;\n",
       "  color: var(--sklearn-color-unfitted-level-1);\n",
       "}\n",
       "\n",
       ".sk-estimator-doc-link.fitted,\n",
       "a:link.sk-estimator-doc-link.fitted,\n",
       "a:visited.sk-estimator-doc-link.fitted {\n",
       "  /* fitted */\n",
       "  border: var(--sklearn-color-fitted-level-1) 1pt solid;\n",
       "  color: var(--sklearn-color-fitted-level-1);\n",
       "}\n",
       "\n",
       "/* On hover */\n",
       "div.sk-estimator:hover .sk-estimator-doc-link:hover,\n",
       ".sk-estimator-doc-link:hover,\n",
       "div.sk-label-container:hover .sk-estimator-doc-link:hover,\n",
       ".sk-estimator-doc-link:hover {\n",
       "  /* unfitted */\n",
       "  background-color: var(--sklearn-color-unfitted-level-3);\n",
       "  color: var(--sklearn-color-background);\n",
       "  text-decoration: none;\n",
       "}\n",
       "\n",
       "div.sk-estimator.fitted:hover .sk-estimator-doc-link.fitted:hover,\n",
       ".sk-estimator-doc-link.fitted:hover,\n",
       "div.sk-label-container:hover .sk-estimator-doc-link.fitted:hover,\n",
       ".sk-estimator-doc-link.fitted:hover {\n",
       "  /* fitted */\n",
       "  background-color: var(--sklearn-color-fitted-level-3);\n",
       "  color: var(--sklearn-color-background);\n",
       "  text-decoration: none;\n",
       "}\n",
       "\n",
       "/* Span, style for the box shown on hovering the info icon */\n",
       ".sk-estimator-doc-link span {\n",
       "  display: none;\n",
       "  z-index: 9999;\n",
       "  position: relative;\n",
       "  font-weight: normal;\n",
       "  right: .2ex;\n",
       "  padding: .5ex;\n",
       "  margin: .5ex;\n",
       "  width: min-content;\n",
       "  min-width: 20ex;\n",
       "  max-width: 50ex;\n",
       "  color: var(--sklearn-color-text);\n",
       "  box-shadow: 2pt 2pt 4pt #999;\n",
       "  /* unfitted */\n",
       "  background: var(--sklearn-color-unfitted-level-0);\n",
       "  border: .5pt solid var(--sklearn-color-unfitted-level-3);\n",
       "}\n",
       "\n",
       ".sk-estimator-doc-link.fitted span {\n",
       "  /* fitted */\n",
       "  background: var(--sklearn-color-fitted-level-0);\n",
       "  border: var(--sklearn-color-fitted-level-3);\n",
       "}\n",
       "\n",
       ".sk-estimator-doc-link:hover span {\n",
       "  display: block;\n",
       "}\n",
       "\n",
       "/* \"?\"-specific style due to the `<a>` HTML tag */\n",
       "\n",
       "#sk-container-id-1 a.estimator_doc_link {\n",
       "  float: right;\n",
       "  font-size: 1rem;\n",
       "  line-height: 1em;\n",
       "  font-family: monospace;\n",
       "  background-color: var(--sklearn-color-background);\n",
       "  border-radius: 1rem;\n",
       "  height: 1rem;\n",
       "  width: 1rem;\n",
       "  text-decoration: none;\n",
       "  /* unfitted */\n",
       "  color: var(--sklearn-color-unfitted-level-1);\n",
       "  border: var(--sklearn-color-unfitted-level-1) 1pt solid;\n",
       "}\n",
       "\n",
       "#sk-container-id-1 a.estimator_doc_link.fitted {\n",
       "  /* fitted */\n",
       "  border: var(--sklearn-color-fitted-level-1) 1pt solid;\n",
       "  color: var(--sklearn-color-fitted-level-1);\n",
       "}\n",
       "\n",
       "/* On hover */\n",
       "#sk-container-id-1 a.estimator_doc_link:hover {\n",
       "  /* unfitted */\n",
       "  background-color: var(--sklearn-color-unfitted-level-3);\n",
       "  color: var(--sklearn-color-background);\n",
       "  text-decoration: none;\n",
       "}\n",
       "\n",
       "#sk-container-id-1 a.estimator_doc_link.fitted:hover {\n",
       "  /* fitted */\n",
       "  background-color: var(--sklearn-color-fitted-level-3);\n",
       "}\n",
       "</style><div id=\"sk-container-id-1\" class=\"sk-top-container\"><div class=\"sk-text-repr-fallback\"><pre>KNeighborsClassifier()</pre><b>In a Jupyter environment, please rerun this cell to show the HTML representation or trust the notebook. <br />On GitHub, the HTML representation is unable to render, please try loading this page with nbviewer.org.</b></div><div class=\"sk-container\" hidden><div class=\"sk-item\"><div class=\"sk-estimator fitted sk-toggleable\"><input class=\"sk-toggleable__control sk-hidden--visually\" id=\"sk-estimator-id-1\" type=\"checkbox\" checked><label for=\"sk-estimator-id-1\" class=\"sk-toggleable__label fitted sk-toggleable__label-arrow\"><div><div>KNeighborsClassifier</div></div><div><a class=\"sk-estimator-doc-link fitted\" rel=\"noreferrer\" target=\"_blank\" href=\"https://scikit-learn.org/1.6/modules/generated/sklearn.neighbors.KNeighborsClassifier.html\">?<span>Documentation for KNeighborsClassifier</span></a><span class=\"sk-estimator-doc-link fitted\">i<span>Fitted</span></span></div></label><div class=\"sk-toggleable__content fitted\"><pre>KNeighborsClassifier()</pre></div> </div></div></div></div>"
      ],
      "text/plain": [
       "KNeighborsClassifier()"
      ]
     },
     "execution_count": 40,
     "metadata": {},
     "output_type": "execute_result"
    }
   ],
   "source": [
    "#Testando modelos de ML\n",
    "from sklearn.ensemble import RandomForestClassifier\n",
    "from sklearn.neighbors import KNeighborsClassifier\n",
    "\n",
    "arvore_decisao = RandomForestClassifier()\n",
    "knn = KNeighborsClassifier()\n",
    "\n",
    "arvore_decisao.fit(x_treino, y_treino)\n",
    "knn.fit(x_treino, y_treino)"
   ]
  },
  {
   "cell_type": "code",
   "execution_count": 43,
   "id": "28ad83bd-c5d3-4eb5-96ba-0fdc5c820e3a",
   "metadata": {},
   "outputs": [
    {
     "name": "stdout",
     "output_type": "stream",
     "text": [
      "Acuracia modelo Arvore Decisão: 0.6487272727272727\n",
      "Acuracia modelo KNN:0.6505454545454545\n"
     ]
    }
   ],
   "source": [
    "#Vendo qual modelo se deu melhor\n",
    "from sklearn.metrics import accuracy_score\n",
    "\n",
    "previsao_arvore  = arvore_decisao.predict(x_teste)\n",
    "previsao_knn = knn.predict(x_teste)\n",
    "\n",
    "print(f'Acuracia modelo Arvore Decisão: {accuracy_score(y_teste, previsao_arvore)}')\n",
    "print(f'Acuracia modelo KNN:{accuracy_score(y_teste, previsao_knn)}')"
   ]
  },
  {
   "cell_type": "markdown",
   "id": "52dbb57a-ad42-468b-8412-00ea58aabd38",
   "metadata": {},
   "source": [
    "**O modeloo ja esta pronto para previsões futuras agora eu só vou salvar**"
   ]
  },
  {
   "cell_type": "code",
   "execution_count": 44,
   "id": "99c69c8d-547b-49e2-9f5e-b21a6eb2c5bf",
   "metadata": {},
   "outputs": [
    {
     "data": {
      "text/plain": [
       "['modelo_knn.pkl']"
      ]
     },
     "execution_count": 44,
     "metadata": {},
     "output_type": "execute_result"
    }
   ],
   "source": [
    "#Salvando o modelo\n",
    "import joblib \n",
    "joblib.dump(knn,'modelo_knn.pkl')"
   ]
  }
 ],
 "metadata": {
  "kernelspec": {
   "display_name": "Python 3 (ipykernel)",
   "language": "python",
   "name": "python3"
  },
  "language_info": {
   "codemirror_mode": {
    "name": "ipython",
    "version": 3
   },
   "file_extension": ".py",
   "mimetype": "text/x-python",
   "name": "python",
   "nbconvert_exporter": "python",
   "pygments_lexer": "ipython3",
   "version": "3.11.9"
  }
 },
 "nbformat": 4,
 "nbformat_minor": 5
}
